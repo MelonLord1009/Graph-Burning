{
  "nbformat": 4,
  "nbformat_minor": 0,
  "metadata": {
    "colab": {
      "provenance": []
    },
    "kernelspec": {
      "name": "python3",
      "display_name": "Python 3"
    },
    "language_info": {
      "name": "python"
    }
  },
  "cells": [
    {
      "cell_type": "markdown",
      "source": [
        "**ILP**"
      ],
      "metadata": {
        "id": "0P9FtSiC9RUb"
      }
    },
    {
      "cell_type": "code",
      "execution_count": null,
      "metadata": {
        "colab": {
          "base_uri": "https://localhost:8080/"
        },
        "id": "tE31LU-dEUOq",
        "outputId": "e4e4a0c3-6277-4561-a6ec-f7a128782035"
      },
      "outputs": [
        {
          "output_type": "stream",
          "name": "stdout",
          "text": [
            "Burning Number = 5.0\n",
            "Running Time: 0.624652624130249 seconds\n"
          ]
        }
      ],
      "source": [
        "import time\n",
        "from ortools.linear_solver import pywraplp\n",
        "import networkx as nx\n",
        "\n",
        "start_time = time.time()\n",
        "G = nx.path_graph(20)\n",
        "\n",
        "def main():\n",
        "    n = len(list(G.nodes))\n",
        "    solver = pywraplp.Solver.CreateSolver('SCIP')\n",
        "    if not solver:\n",
        "        return\n",
        "\n",
        "    # variables\n",
        "    f = [[solver.BoolVar(f'f[{i}][{j}]') for j in range(n)] for i in range(n)]\n",
        "    b = [[solver.BoolVar(f'b[{i}][{j}]') for j in range(n)] for i in range(n)]\n",
        "    c = [solver.BoolVar(f'c{i}') for i in range(n)]\n",
        "    i = solver.IntVar(0, n, \"i\")\n",
        "    v = solver.IntVar(0, n, \"v\")\n",
        "\n",
        "    # Constraints\n",
        "\n",
        "    for i in range(n):\n",
        "        for j in range(n-1):\n",
        "            solver.Add(b[i][j] >= f[i][j])\n",
        "\n",
        "    for i in range(n):\n",
        "        solver.Add(sum(f[i]) <= 1)\n",
        "\n",
        "    for i in range(n-1):\n",
        "        for j in range(n-1):\n",
        "            solver.Add(b[i + 1][j] >= b[i][j])\n",
        "\n",
        "    for j in range(n-1):\n",
        "        solver.Add(b[0][j] == 0)\n",
        "\n",
        "    for i in range(n):\n",
        "        for j in range(n-1):\n",
        "            solver.Add(c[i] <= b[i][j])\n",
        "\n",
        "    for i in range(n):\n",
        "        solver.Add((sum(b[i]) - n + 1) <= c[i])\n",
        "\n",
        "    for i in range(n-1):\n",
        "        for j in range(n-1):\n",
        "            for k in G[j]:\n",
        "                solver.Add(b[i + 1][k] >= b[i][j])\n",
        "\n",
        "    for i in range(n-1):\n",
        "        for j in range(n-1):\n",
        "            sum_var = sum(b[i][k] for k in G[j])\n",
        "            solver.Add(b[i + 1][j] <= sum_var + f[i + 1][j])\n",
        "\n",
        "    objective = solver.Objective()\n",
        "    for i in range(n):\n",
        "        objective.SetCoefficient(c[i], 1)\n",
        "\n",
        "    objective.SetMaximization()\n",
        "\n",
        "\n",
        "    status = solver.Solve()\n",
        "\n",
        "\n",
        "    if status == pywraplp.Solver.OPTIMAL:\n",
        "        print('Burning Number =', n - solver.Objective().Value())\n",
        "\n",
        "\n",
        "\n",
        "\n",
        "main()\n",
        "end_time = time.time()\n",
        "running_time=end_time - start_time\n",
        "print('Running Time:', running_time, 'seconds')"
      ]
    },
    {
      "cell_type": "markdown",
      "source": [
        "**Exact Algorithm**"
      ],
      "metadata": {
        "id": "KjpPz6VX9PLb"
      }
    },
    {
      "cell_type": "code",
      "source": [
        "import networkx as nx\n",
        "from itertools import chain, combinations\n",
        "import matplotlib.pyplot as plt\n",
        "import time\n",
        "\n",
        "start_time = time.time()\n",
        "\n",
        "G = nx.path_graph(20)\n",
        "\n",
        "\n",
        "def neighbors(G):\n",
        "    ng = {}\n",
        "    for i in G.nodes():\n",
        "        modng = list(G[i]) + [i]\n",
        "        ng[i] = modng\n",
        "    return ng\n",
        "\n",
        "\n",
        "neighbors(G)\n",
        "nbrs = neighbors(G)\n",
        "\n",
        "\n",
        "def neighborsset(v):\n",
        "    a = []\n",
        "    for i in v:\n",
        "        a += nbrs[i]\n",
        "    return set(a)\n",
        "\n",
        "\n",
        "def powerset(iterable):\n",
        "    s = list(iterable)\n",
        "    return chain.from_iterable(combinations(s, r) for r in range(len(s) + 1))\n",
        "\n",
        "\n",
        "def subsets(G):\n",
        "    i = []\n",
        "    for node in powerset(G.nodes):\n",
        "        i.append(tuple(node))\n",
        "    return i\n",
        "\n",
        "\n",
        "def Diff(li1, li2):\n",
        "    li_dif = [i for i in li1 + li2 if i not in li1 or i not in li2]\n",
        "    return li_dif\n",
        "\n",
        "\n",
        "cg = nx.Graph()\n",
        "\n",
        "\n",
        "def configurationGraph(v):\n",
        "    cg.add_nodes_from(v)\n",
        "\n",
        "    edges_to_add = []  # List to store edges\n",
        "\n",
        "    for i in cg.nodes:\n",
        "        lis = list()\n",
        "        if i != ():\n",
        "            for j in i:\n",
        "                lis += nbrs[j]\n",
        "        lis = list(set(lis))\n",
        "        rem_ver = list()\n",
        "        rem_ver = Diff(list(G.nodes), list(i))\n",
        "        for j in rem_ver:\n",
        "            lis1 = lis + [j]\n",
        "            edges_to_add.append((i, tuple(set(lis1))))  # Add edges to the list\n",
        "\n",
        "    cg.add_edges_from(edges_to_add)  # Add edges outside the loop\n",
        "    print(\"Burning Sequence :\",nx.shortest_path(cg,source=(),target=v[-1]))\n",
        "    print(\"Burning Number :\",len(nx.shortest_path(cg,source=(),target=v[-1]))-1)\n",
        "    #pos = nx.spring_layout(cg)\n",
        "    #nx.draw(cg, pos)\n",
        "    #labels = {node: node for node in cg.nodes}\n",
        "    #nx.draw_networkx_labels(cg, pos, labels)\n",
        "\n",
        "    #plt.show()\n",
        "\n",
        "configurationGraph(subsets(G))\n",
        "\n",
        "end_time = time.time()\n",
        "\n",
        "print(\"Running time :\",end_time-start_time)"
      ],
      "metadata": {
        "colab": {
          "base_uri": "https://localhost:8080/"
        },
        "id": "x87Xgho5FEEZ",
        "outputId": "d3530aec-8aed-4f17-bda2-afcb0482cc41"
      },
      "execution_count": null,
      "outputs": [
        {
          "output_type": "stream",
          "name": "stdout",
          "text": [
            "Burning Sequence : [(), (0,), (0, 1, 7), (0, 1, 2, 6, 7, 8, 13), (0, 1, 2, 3, 5, 6, 7, 8, 9, 12, 13, 14, 17), (0, 1, 2, 3, 4, 5, 6, 7, 8, 9, 10, 11, 12, 13, 14, 15, 16, 17, 18, 19)]\n",
            "Burning Number : 5\n",
            "Running time : 42.73422622680664\n"
          ]
        }
      ]
    },
    {
      "cell_type": "markdown",
      "source": [
        "**Brute force**"
      ],
      "metadata": {
        "id": "-DY0zHpO9kn4"
      }
    },
    {
      "cell_type": "code",
      "source": [
        "import time\n",
        "def check(burned):\n",
        "    for i in burned:\n",
        "        if not i:\n",
        "            return False\n",
        "    return True\n",
        "\n",
        "def burn(v, burned):\n",
        "    burned[v] = 1\n",
        "\n",
        "\n",
        "def nextpermutation(a):\n",
        "    # Find the largest index i such that a[i] < a[i + 1]. If no such\n",
        "    # index exists, the permutation is the last permutation\n",
        "    for i in reversed(range(len(a) - 1)):\n",
        "        if a[i] < a[i + 1]:\n",
        "            break  # found\n",
        "    else:  # no break: not found\n",
        "        return False  # no next permutation\n",
        "\n",
        "    # Find the largest index j greater than i such that a[i] < a[j]\n",
        "    j = next(j for j in reversed(range(i + 1, len(a))) if a[i] < a[j])\n",
        "\n",
        "    # Swap the value of a[i] with that of a[j]\n",
        "    a[i], a[j] = a[j], a[i]\n",
        "\n",
        "    # Reverse sequence from a[i + 1] up to and including the final element a[n]\n",
        "    a[i + 1:] = reversed(a[i + 1:])\n",
        "    return True\n",
        "\n",
        "def propagate(burned, g, v):\n",
        "    for i in range(v):\n",
        "        if burned[i] == 1:\n",
        "            size = len(g[i])\n",
        "            for j in range(size):\n",
        "                if burned[g[i][j]] == 0:\n",
        "                    burned[g[i][j]] = 2\n",
        "    for i in range(v):\n",
        "        if burned[i] == 2:\n",
        "            burned[i] = 1\n",
        "\n",
        "def rounds(seq, burned, g, v):\n",
        "    for i in range(v):\n",
        "        propagate(burned, g, v)\n",
        "        burn(seq[i], burned)\n",
        "        if check(burned):\n",
        "            return i + 1\n",
        "    return v\n",
        "\n",
        "v, e = map(int, input(\"Enter the number of vertices and edges in the graph: \").split())\n",
        "\n",
        "g = [[] for _ in range(v)]\n",
        "\n",
        "if e:\n",
        "    print(\"Enter the edges:\")\n",
        "\n",
        "for _ in range(e):\n",
        "    edge = input().split()\n",
        "    a, b = map(int, edge)\n",
        "    g[a].append(b)\n",
        "    g[b].append(a)\n",
        "\n",
        "start_time = time.time()\n",
        "seq = list(range(v))\n",
        "b = v\n",
        "\n",
        "while True:\n",
        "    burned = [0] * v  # Reset the burned list before each call to rounds\n",
        "    b = min(b, rounds(seq, burned, g, v))\n",
        "    if not nextpermutation(seq):\n",
        "        break\n",
        "\n",
        "print(\"The burning number is:\",b)\n",
        "\n",
        "end_time = time.time()\n",
        "print(\"Running time :\",end_time-start_time)"
      ],
      "metadata": {
        "colab": {
          "base_uri": "https://localhost:8080/",
          "height": 745
        },
        "id": "QtpiPwFh9jZm",
        "outputId": "af91c505-1c68-469a-95a6-e7002f31d90f"
      },
      "execution_count": null,
      "outputs": [
        {
          "name": "stdout",
          "output_type": "stream",
          "text": [
            "Enter the number of vertices and edges in the graph: 20 19\n",
            "Enter the edges:\n",
            "0 1\n",
            "1 2\n",
            "2 3\n",
            "3 4\n",
            "4 5\n",
            "5 6\n",
            "6 7\n",
            "7 8\n",
            "8 9\n",
            "9 10\n",
            "10 11\n",
            "11 12\n",
            "12 13\n",
            "13 14\n",
            "14 15\n",
            "15 16\n",
            "16 17\n",
            "17 18\n",
            "18 19\n"
          ]
        },
        {
          "output_type": "error",
          "ename": "KeyboardInterrupt",
          "evalue": "ignored",
          "traceback": [
            "\u001b[0;31m---------------------------------------------------------------------------\u001b[0m",
            "\u001b[0;31mKeyboardInterrupt\u001b[0m                         Traceback (most recent call last)",
            "\u001b[0;32m<ipython-input-11-6ddcbf6218dd>\u001b[0m in \u001b[0;36m<cell line: 67>\u001b[0;34m()\u001b[0m\n\u001b[1;32m     67\u001b[0m \u001b[0;32mwhile\u001b[0m \u001b[0;32mTrue\u001b[0m\u001b[0;34m:\u001b[0m\u001b[0;34m\u001b[0m\u001b[0;34m\u001b[0m\u001b[0m\n\u001b[1;32m     68\u001b[0m     \u001b[0mburned\u001b[0m \u001b[0;34m=\u001b[0m \u001b[0;34m[\u001b[0m\u001b[0;36m0\u001b[0m\u001b[0;34m]\u001b[0m \u001b[0;34m*\u001b[0m \u001b[0mv\u001b[0m  \u001b[0;31m# Reset the burned list before each call to rounds\u001b[0m\u001b[0;34m\u001b[0m\u001b[0;34m\u001b[0m\u001b[0m\n\u001b[0;32m---> 69\u001b[0;31m     \u001b[0mb\u001b[0m \u001b[0;34m=\u001b[0m \u001b[0mmin\u001b[0m\u001b[0;34m(\u001b[0m\u001b[0mb\u001b[0m\u001b[0;34m,\u001b[0m \u001b[0mrounds\u001b[0m\u001b[0;34m(\u001b[0m\u001b[0mseq\u001b[0m\u001b[0;34m,\u001b[0m \u001b[0mburned\u001b[0m\u001b[0;34m,\u001b[0m \u001b[0mg\u001b[0m\u001b[0;34m,\u001b[0m \u001b[0mv\u001b[0m\u001b[0;34m)\u001b[0m\u001b[0;34m)\u001b[0m\u001b[0;34m\u001b[0m\u001b[0;34m\u001b[0m\u001b[0m\n\u001b[0m\u001b[1;32m     70\u001b[0m     \u001b[0;32mif\u001b[0m \u001b[0;32mnot\u001b[0m \u001b[0mnextpermutation\u001b[0m\u001b[0;34m(\u001b[0m\u001b[0mseq\u001b[0m\u001b[0;34m)\u001b[0m\u001b[0;34m:\u001b[0m\u001b[0;34m\u001b[0m\u001b[0;34m\u001b[0m\u001b[0m\n\u001b[1;32m     71\u001b[0m         \u001b[0;32mbreak\u001b[0m\u001b[0;34m\u001b[0m\u001b[0;34m\u001b[0m\u001b[0m\n",
            "\u001b[0;32m<ipython-input-11-6ddcbf6218dd>\u001b[0m in \u001b[0;36mrounds\u001b[0;34m(seq, burned, g, v)\u001b[0m\n\u001b[1;32m     42\u001b[0m \u001b[0;32mdef\u001b[0m \u001b[0mrounds\u001b[0m\u001b[0;34m(\u001b[0m\u001b[0mseq\u001b[0m\u001b[0;34m,\u001b[0m \u001b[0mburned\u001b[0m\u001b[0;34m,\u001b[0m \u001b[0mg\u001b[0m\u001b[0;34m,\u001b[0m \u001b[0mv\u001b[0m\u001b[0;34m)\u001b[0m\u001b[0;34m:\u001b[0m\u001b[0;34m\u001b[0m\u001b[0;34m\u001b[0m\u001b[0m\n\u001b[1;32m     43\u001b[0m     \u001b[0;32mfor\u001b[0m \u001b[0mi\u001b[0m \u001b[0;32min\u001b[0m \u001b[0mrange\u001b[0m\u001b[0;34m(\u001b[0m\u001b[0mv\u001b[0m\u001b[0;34m)\u001b[0m\u001b[0;34m:\u001b[0m\u001b[0;34m\u001b[0m\u001b[0;34m\u001b[0m\u001b[0m\n\u001b[0;32m---> 44\u001b[0;31m         \u001b[0mpropagate\u001b[0m\u001b[0;34m(\u001b[0m\u001b[0mburned\u001b[0m\u001b[0;34m,\u001b[0m \u001b[0mg\u001b[0m\u001b[0;34m,\u001b[0m \u001b[0mv\u001b[0m\u001b[0;34m)\u001b[0m\u001b[0;34m\u001b[0m\u001b[0;34m\u001b[0m\u001b[0m\n\u001b[0m\u001b[1;32m     45\u001b[0m         \u001b[0mburn\u001b[0m\u001b[0;34m(\u001b[0m\u001b[0mseq\u001b[0m\u001b[0;34m[\u001b[0m\u001b[0mi\u001b[0m\u001b[0;34m]\u001b[0m\u001b[0;34m,\u001b[0m \u001b[0mburned\u001b[0m\u001b[0;34m)\u001b[0m\u001b[0;34m\u001b[0m\u001b[0;34m\u001b[0m\u001b[0m\n\u001b[1;32m     46\u001b[0m         \u001b[0;32mif\u001b[0m \u001b[0mcheck\u001b[0m\u001b[0;34m(\u001b[0m\u001b[0mburned\u001b[0m\u001b[0;34m)\u001b[0m\u001b[0;34m:\u001b[0m\u001b[0;34m\u001b[0m\u001b[0;34m\u001b[0m\u001b[0m\n",
            "\u001b[0;32m<ipython-input-11-6ddcbf6218dd>\u001b[0m in \u001b[0;36mpropagate\u001b[0;34m(burned, g, v)\u001b[0m\n\u001b[1;32m      1\u001b[0m \u001b[0;32mimport\u001b[0m \u001b[0mtime\u001b[0m\u001b[0;34m\u001b[0m\u001b[0;34m\u001b[0m\u001b[0m\n\u001b[1;32m      2\u001b[0m \u001b[0;32mdef\u001b[0m \u001b[0mcheck\u001b[0m\u001b[0;34m(\u001b[0m\u001b[0mburned\u001b[0m\u001b[0;34m)\u001b[0m\u001b[0;34m:\u001b[0m\u001b[0;34m\u001b[0m\u001b[0;34m\u001b[0m\u001b[0m\n\u001b[1;32m      3\u001b[0m     \u001b[0;32mfor\u001b[0m \u001b[0mi\u001b[0m \u001b[0;32min\u001b[0m \u001b[0mburned\u001b[0m\u001b[0;34m:\u001b[0m\u001b[0;34m\u001b[0m\u001b[0;34m\u001b[0m\u001b[0m\n\u001b[1;32m      4\u001b[0m         \u001b[0;32mif\u001b[0m \u001b[0;32mnot\u001b[0m \u001b[0mi\u001b[0m\u001b[0;34m:\u001b[0m\u001b[0;34m\u001b[0m\u001b[0;34m\u001b[0m\u001b[0m\n\u001b[1;32m      5\u001b[0m             \u001b[0;32mreturn\u001b[0m \u001b[0;32mFalse\u001b[0m\u001b[0;34m\u001b[0m\u001b[0;34m\u001b[0m\u001b[0m\n",
            "\u001b[0;31mKeyboardInterrupt\u001b[0m: "
          ]
        }
      ]
    }
  ]
}